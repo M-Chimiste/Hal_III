{
 "cells": [
  {
   "cell_type": "code",
   "execution_count": 1,
   "metadata": {},
   "outputs": [],
   "source": [
    "import copy\n",
    "import json\n",
    "import os\n",
    "import os.path\n",
    "import zstd\n",
    "\n",
    "import hlt"
   ]
  },
  {
   "cell_type": "code",
   "execution_count": 2,
   "metadata": {},
   "outputs": [],
   "source": [
    "with open(\"Example.hlt\", 'rb') as f:\n",
    "    data = json.loads(zstd.loads(f.read()))"
   ]
  },
  {
   "cell_type": "code",
   "execution_count": 60,
   "metadata": {},
   "outputs": [
    {
     "data": {
      "text/plain": [
       "[{'energy': 5000,\n",
       "  'entities': [],\n",
       "  'factory_location': {'x': 11, 'y': 20},\n",
       "  'name': 'teccles v4',\n",
       "  'player_id': 0},\n",
       " {'energy': 5000,\n",
       "  'entities': [],\n",
       "  'factory_location': {'x': 28, 'y': 20},\n",
       "  'name': 'Team Brogrammers v7',\n",
       "  'player_id': 1}]"
      ]
     },
     "execution_count": 60,
     "metadata": {},
     "output_type": "execute_result"
    }
   ],
   "source": [
    "rank = [p for p in data['game_statistics']['player_statistics']]\n",
    "player = [p for p in data['players']]\n",
    "player"
   ]
  },
  {
   "cell_type": "code",
   "execution_count": 26,
   "metadata": {},
   "outputs": [],
   "source": [
    "for i in rank:\n",
    "    if i['rank'] == 1:\n",
    "        player_name = i['player_id']\n",
    "    "
   ]
  },
  {
   "cell_type": "code",
   "execution_count": 27,
   "metadata": {},
   "outputs": [
    {
     "data": {
      "text/plain": [
       "1"
      ]
     },
     "execution_count": 27,
     "metadata": {},
     "output_type": "execute_result"
    }
   ],
   "source": [
    "player_name"
   ]
  },
  {
   "cell_type": "code",
   "execution_count": 40,
   "metadata": {},
   "outputs": [],
   "source": [
    "player = [p for p in data['players'] if p['player_id'] == player_name]"
   ]
  },
  {
   "cell_type": "code",
   "execution_count": 41,
   "metadata": {},
   "outputs": [
    {
     "data": {
      "text/plain": [
       "[{'energy': 5000,\n",
       "  'entities': [],\n",
       "  'factory_location': {'x': 28, 'y': 20},\n",
       "  'name': 'Team Brogrammers v7',\n",
       "  'player_id': 1}]"
      ]
     },
     "execution_count": 41,
     "metadata": {},
     "output_type": "execute_result"
    }
   ],
   "source": [
    "player"
   ]
  },
  {
   "cell_type": "code",
   "execution_count": 36,
   "metadata": {},
   "outputs": [
    {
     "data": {
      "text/plain": [
       "dict"
      ]
     },
     "execution_count": 36,
     "metadata": {},
     "output_type": "execute_result"
    }
   ],
   "source": [
    "type(player[0])"
   ]
  },
  {
   "cell_type": "code",
   "execution_count": 37,
   "metadata": {},
   "outputs": [
    {
     "data": {
      "text/plain": [
       "'Team Brogrammers v7'"
      ]
     },
     "execution_count": 37,
     "metadata": {},
     "output_type": "execute_result"
    }
   ],
   "source": [
    "player[0]['name']"
   ]
  },
  {
   "cell_type": "code",
   "execution_count": 63,
   "metadata": {},
   "outputs": [],
   "source": [
    "# Parsing replay files.  Adopted from https://github.com/HaliteChallenge/Halite-III/blob/master/starter_kits/ml/SVM/parse.py\n",
    "import copy\n",
    "import json\n",
    "import os\n",
    "import os.path\n",
    "import zstd\n",
    "\n",
    "import hlt\n",
    "from hlt.entity import Shipyard, Dropoff, Ship\n",
    "from hlt.game_map import MapCell, GameMap\n",
    "\n",
    "ARBITRARY_ID = -1\n",
    "\n",
    "def find_player_data(data):\n",
    "    rank = [p for p in data['game_statistics']['player_statistics']]\n",
    "    for i in rank:\n",
    "        if i['rank'] == 1:\n",
    "            player_id = i['player_id']\n",
    "    player_name = [p for p in data['players'] if p['player_id'] == player_id]\n",
    "    player_name = player_name[0]['name']\n",
    "    return int(player_id)\n",
    "    \n",
    "\n",
    "\n",
    "def parse_replay_file(file_name):\n",
    "    print(\"Load Replay: \" + file_name)\n",
    "    with open(file_name, 'rb') as f:\n",
    "        data = json.loads(zstd.loads(f.read()))\n",
    "\n",
    "    print(\"Load Basic Information\")\n",
    "    player_id = find_player_data(data)\n",
    "    player = [p for p in data['players'] if p['player_id'] == player_id]\n",
    "    \n",
    "    my_shipyard = Shipyard(player_id, ARBITRARY_ID,\n",
    "                               hlt.Position(player['factory_location']['x'], player['factory_location']['y']))\n",
    "    other_shipyards = [\n",
    "        Shipyard(p['player_id'], ARBITRARY_ID, hlt.Position(p['factory_location']['x'], p['factory_location']['y']))\n",
    "        for p in data['players'] if int(p['player_id']) != player_id]\n",
    "    width = data['production_map']['width']\n",
    "    height = data['production_map']['height']\n",
    "\n",
    "    print(\"Load Cell Information\")\n",
    "    first_cells = []\n",
    "    for x in range(len(data['production_map']['grid'])):\n",
    "        row = []\n",
    "        for y in range(len(data['production_map']['grid'][x])):\n",
    "            row += [MapCell(hlt.Position(x, y), data['production_map']['grid'][x][y]['energy'])]\n",
    "        first_cells.append(row)\n",
    "    frames = []\n",
    "    for f in data['full_frames']:\n",
    "        prev_cells = first_cells if len(frames) == 0 else frames[-1]._cells\n",
    "        new_cells = copy.deepcopy(prev_cells)\n",
    "        for c in f['cells']:\n",
    "            new_cells[c['y']][c['x']].halite_amount = c['production']\n",
    "        frames.append(GameMap(new_cells, width, height))\n",
    "\n",
    "    print(\"Load Player Ships\")\n",
    "    moves = [{} if str(player_id) not in f['moves'] else {m['id']: m['direction'] for m in f['moves'][str(player_id)] if\n",
    "                                                          m['type'] == \"m\"} for f in data['full_frames']]\n",
    "    ships = [{} if str(player_id) not in f['entities'] else {\n",
    "        int(sid): Ship(player_id, int(sid), hlt.Position(ship['x'], ship['y']), ship['energy']) for sid, ship in\n",
    "        f['entities'][str(player_id)].items()} for f in data['full_frames']]\n",
    "\n",
    "    print(\"Load Other Player Ships\")\n",
    "    other_ships = [\n",
    "        {int(sid): Ship(int(pid), int(sid), hlt.Position(ship['x'], ship['y']), ship['energy']) for pid, p in\n",
    "         f['entities'].items() if\n",
    "         int(pid) != player_id for sid, ship in p.items()} for f in data['full_frames']]\n",
    "\n",
    "    print(\"Load Droppoff Information\")\n",
    "    first_my_dropoffs = [my_shipyard]\n",
    "    first_them_dropoffs = other_shipyards\n",
    "    my_dropoffs = []\n",
    "    them_dropoffs = []\n",
    "    for f in data['full_frames']:\n",
    "        new_my_dropoffs = copy.deepcopy(first_my_dropoffs if len(my_dropoffs) == 0 else my_dropoffs[-1])\n",
    "        new_them_dropoffs = copy.deepcopy(first_them_dropoffs if len(them_dropoffs) == 0 else them_dropoffs[-1])\n",
    "        for e in f['events']:\n",
    "            if e['type'] == 'construct':\n",
    "                if int(e['owner_id']) == player_id:\n",
    "                    new_my_dropoffs.append(\n",
    "                        Dropoff(player_id, ARBITRARY_ID, hlt.Position(e['location']['x'], e['location']['y'])))\n",
    "                else:\n",
    "                    new_them_dropoffs.append(\n",
    "                        Dropoff(e['owner_id'], ARBITRARY_ID, hlt.Position(e['location']['x'], e['location']['y'])))\n",
    "        my_dropoffs.append(new_my_dropoffs)\n",
    "        them_dropoffs.append(new_them_dropoffs)\n",
    "    return list(zip(frames, moves, ships, other_ships, my_dropoffs, them_dropoffs))\n",
    "\n",
    "\n",
    "def parse_replay_folder(folder_name, player_name, max_files=None):\n",
    "    replay_buffer = []\n",
    "    for file_name in sorted(os.listdir(folder_name)):\n",
    "        if not file_name.endswith(\".hlt\"):\n",
    "            continue\n",
    "        elif max_files is not None and len(replay_buffer) >= max_files:\n",
    "            break\n",
    "        else:\n",
    "            replay_buffer.append(parse_replay_file(os.path.join(folder_name, file_name)))\n",
    "    return replay_buffer\n",
    "\n"
   ]
  },
  {
   "cell_type": "code",
   "execution_count": 64,
   "metadata": {},
   "outputs": [
    {
     "name": "stdout",
     "output_type": "stream",
     "text": [
      "Load Replay: Example.hlt\n",
      "Load Basic Information\n"
     ]
    },
    {
     "ename": "TypeError",
     "evalue": "list indices must be integers or slices, not str",
     "output_type": "error",
     "traceback": [
      "\u001b[1;31m---------------------------------------------------------------------------\u001b[0m",
      "\u001b[1;31mTypeError\u001b[0m                                 Traceback (most recent call last)",
      "\u001b[1;32m<ipython-input-64-1bd3fd96306c>\u001b[0m in \u001b[0;36m<module>\u001b[1;34m()\u001b[0m\n\u001b[0;32m      1\u001b[0m \u001b[1;33m\u001b[0m\u001b[0m\n\u001b[1;32m----> 2\u001b[1;33m \u001b[0mdata\u001b[0m \u001b[1;33m=\u001b[0m \u001b[0mparse_replay_file\u001b[0m\u001b[1;33m(\u001b[0m\u001b[1;34m'Example.hlt'\u001b[0m\u001b[1;33m)\u001b[0m\u001b[1;33m\u001b[0m\u001b[0m\n\u001b[0m",
      "\u001b[1;32m<ipython-input-63-1226f3c467fb>\u001b[0m in \u001b[0;36mparse_replay_file\u001b[1;34m(file_name)\u001b[0m\n\u001b[0;32m     33\u001b[0m \u001b[1;33m\u001b[0m\u001b[0m\n\u001b[0;32m     34\u001b[0m     my_shipyard = Shipyard(player_id, ARBITRARY_ID,\n\u001b[1;32m---> 35\u001b[1;33m                                hlt.Position(player['factory_location']['x'], player['factory_location']['y']))\n\u001b[0m\u001b[0;32m     36\u001b[0m     other_shipyards = [\n\u001b[0;32m     37\u001b[0m         \u001b[0mShipyard\u001b[0m\u001b[1;33m(\u001b[0m\u001b[0mp\u001b[0m\u001b[1;33m[\u001b[0m\u001b[1;34m'player_id'\u001b[0m\u001b[1;33m]\u001b[0m\u001b[1;33m,\u001b[0m \u001b[0mARBITRARY_ID\u001b[0m\u001b[1;33m,\u001b[0m \u001b[0mhlt\u001b[0m\u001b[1;33m.\u001b[0m\u001b[0mPosition\u001b[0m\u001b[1;33m(\u001b[0m\u001b[0mp\u001b[0m\u001b[1;33m[\u001b[0m\u001b[1;34m'factory_location'\u001b[0m\u001b[1;33m]\u001b[0m\u001b[1;33m[\u001b[0m\u001b[1;34m'x'\u001b[0m\u001b[1;33m]\u001b[0m\u001b[1;33m,\u001b[0m \u001b[0mp\u001b[0m\u001b[1;33m[\u001b[0m\u001b[1;34m'factory_location'\u001b[0m\u001b[1;33m]\u001b[0m\u001b[1;33m[\u001b[0m\u001b[1;34m'y'\u001b[0m\u001b[1;33m]\u001b[0m\u001b[1;33m)\u001b[0m\u001b[1;33m)\u001b[0m\u001b[1;33m\u001b[0m\u001b[0m\n",
      "\u001b[1;31mTypeError\u001b[0m: list indices must be integers or slices, not str"
     ]
    }
   ],
   "source": [
    "\n",
    "data = parse_replay_file('Example.hlt')"
   ]
  },
  {
   "cell_type": "code",
   "execution_count": null,
   "metadata": {},
   "outputs": [],
   "source": []
  }
 ],
 "metadata": {
  "kernelspec": {
   "display_name": "Python 3",
   "language": "python",
   "name": "python3"
  },
  "language_info": {
   "codemirror_mode": {
    "name": "ipython",
    "version": 3
   },
   "file_extension": ".py",
   "mimetype": "text/x-python",
   "name": "python",
   "nbconvert_exporter": "python",
   "pygments_lexer": "ipython3",
   "version": "3.6.5"
  }
 },
 "nbformat": 4,
 "nbformat_minor": 2
}
